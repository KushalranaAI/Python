{
 "cells": [
  {
   "cell_type": "code",
   "execution_count": 2,
   "id": "59fabde2",
   "metadata": {},
   "outputs": [],
   "source": [
    "a = 5"
   ]
  },
  {
   "cell_type": "code",
   "execution_count": 2,
   "id": "037e2549",
   "metadata": {},
   "outputs": [
    {
     "data": {
      "text/plain": [
       "5"
      ]
     },
     "execution_count": 2,
     "metadata": {},
     "output_type": "execute_result"
    }
   ],
   "source": [
    "a"
   ]
  },
  {
   "cell_type": "code",
   "execution_count": 3,
   "id": "46b90494",
   "metadata": {},
   "outputs": [
    {
     "data": {
      "text/plain": [
       "{0: -0.005284864936087797,\n",
       " 1: -1.130704440815225,\n",
       " 2: 0.20119668329109364,\n",
       " 3: 1.441686372381092,\n",
       " 4: 1.406338334550105,\n",
       " 5: 0.18156397219990306,\n",
       " 6: -0.22390093918283366}"
      ]
     },
     "execution_count": 3,
     "metadata": {},
     "output_type": "execute_result"
    }
   ],
   "source": [
    "import numpy as np\n",
    "data = {i : np.random.randn() for i in range(7)}\n",
    "data"
   ]
  },
  {
   "cell_type": "code",
   "execution_count": 3,
   "id": "26e6341f",
   "metadata": {},
   "outputs": [],
   "source": [
    "a?\n",
    "# object introspection  = using a question (?)befor and after a variable display some info about the object. \n",
    "# using ?? will also show the function source code if possible."
   ]
  },
  {
   "cell_type": "code",
   "execution_count": 5,
   "id": "e75461f1",
   "metadata": {},
   "outputs": [
    {
     "data": {
      "text/plain": [
       "['foo', 2, (3, 4)]"
      ]
     },
     "execution_count": 5,
     "metadata": {},
     "output_type": "execute_result"
    }
   ],
   "source": [
    "# Python language basics(some people call it “executable pseudocode”)\n",
    "# Python use whitespace to structure cose instead of using braces.\n",
    "#  A colon(:) denotes the start of an indented code block\n",
    "# Python statements also do not need to be terminated by semi‐colons(;).\n",
    "# An important characteristic of the Python language is the consistency of its objectmodel.\n",
    "# Functions can take both positional and keyword arguments.\n",
    "# Python is considered a strongly typed language, which means that every object\n",
    "    #has a specific type (or class), and implicit conversions will occur only in certain obvi‐ous circumstances.\n",
    "\n",
    "# Mutable means that the object or value that they conatain can be modified\n",
    "# immutable means opposite to mutable\n",
    "a_list = ['foo', 2, [4, 5]]\n",
    "a_list[2] = (3, 4)\n",
    "a_list\n",
    "    "
   ]
  },
  {
   "cell_type": "code",
   "execution_count": 8,
   "id": "8a780f87",
   "metadata": {},
   "outputs": [
    {
     "data": {
      "text/plain": [
       "1.5"
      ]
     },
     "execution_count": 8,
     "metadata": {},
     "output_type": "execute_result"
    }
   ],
   "source": [
    "# An int can store arbitrar‐ily large numbers\n",
    "x = 3/2\n",
    "x"
   ]
  },
  {
   "cell_type": "code",
   "execution_count": 9,
   "id": "e524edf2",
   "metadata": {},
   "outputs": [
    {
     "data": {
      "text/plain": [
       "1"
      ]
     },
     "execution_count": 9,
     "metadata": {},
     "output_type": "execute_result"
    }
   ],
   "source": [
    "# An int can store arbitrar‐ily large numbers\n",
    "3//2"
   ]
  },
  {
   "cell_type": "code",
   "execution_count": 10,
   "id": "1fe218a7",
   "metadata": {},
   "outputs": [
    {
     "data": {
      "text/plain": [
       "'4.556 zara cloths are worth $1000'"
      ]
     },
     "execution_count": 10,
     "metadata": {},
     "output_type": "execute_result"
    }
   ],
   "source": [
    "# Many people use Python for its powerful and flexible built-in string processing capa‐bilities.\n",
    "# Python strings are immutable\n",
    "\n",
    "cost = '{0:.3f} {1:s} are worth ${2:d}'\n",
    "cost.format(4.556,'zara cloths',1000)"
   ]
  },
  {
   "cell_type": "code",
   "execution_count": 13,
   "id": "a9892cbc",
   "metadata": {},
   "outputs": [
    {
     "data": {
      "text/plain": [
       "datetime.datetime(2009, 10, 31, 0, 0)"
      ]
     },
     "execution_count": 13,
     "metadata": {},
     "output_type": "execute_result"
    }
   ],
   "source": [
    "# he two boolean values in Python are written as True and False. Comparisons andother conditional expressions evaluate to either True or False. (and),(or) are keywords used.\n",
    "# date-time\n",
    "# The strftime method formats a datetime as a string\n",
    "# Strings can be converted (parsed) into datetime objects with the strptime function\n",
    "from datetime import datetime,date,time\n",
    "datetime.strptime('20091031', '%Y%m%d')\n"
   ]
  },
  {
   "cell_type": "code",
   "execution_count": 14,
   "id": "30dc33a7",
   "metadata": {},
   "outputs": [
    {
     "data": {
      "text/plain": [
       "'non-negative'"
      ]
     },
     "execution_count": 14,
     "metadata": {},
     "output_type": "execute_result"
    }
   ],
   "source": [
    "# control flow\n",
    "\n",
    "# Python has several built-in keywords for conditional logic, loops, and other standardcontrol flow concepts found in other programming languages\n",
    "# if, elif statement is true then interpreter can enter on if,elif script.\n",
    "# else is come to use when if condition is not true.\n",
    "\n",
    "# for loops are for iterating over a collection (like a list or tuple) or an iterater.\n",
    "# continue, break and pass statement are used to skipping, terminating and ignore the loop.\n",
    "\n",
    "#Ternary expressions\n",
    "# A ternary expression in Python allows you to combine an if-else block that pro‐duces a value into a single line or expression. The syntax for this in Python is:\n",
    "      #value = true-expr if condition else false-expr\n",
    "    \n",
    "x =5\n",
    "'non-negative' if x > 0 else 'negative'"
   ]
  },
  {
   "cell_type": "code",
   "execution_count": null,
   "id": "ee90d989",
   "metadata": {},
   "outputs": [],
   "source": []
  }
 ],
 "metadata": {
  "kernelspec": {
   "display_name": "Python 3 (ipykernel)",
   "language": "python",
   "name": "python3"
  },
  "language_info": {
   "codemirror_mode": {
    "name": "ipython",
    "version": 3
   },
   "file_extension": ".py",
   "mimetype": "text/x-python",
   "name": "python",
   "nbconvert_exporter": "python",
   "pygments_lexer": "ipython3",
   "version": "3.9.12"
  }
 },
 "nbformat": 4,
 "nbformat_minor": 5
}
