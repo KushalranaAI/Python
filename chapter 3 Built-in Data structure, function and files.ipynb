{
 "cells": [
  {
   "cell_type": "markdown",
   "id": "02ca857a",
   "metadata": {},
   "source": [
    "## Data structure and sequences"
   ]
  },
  {
   "cell_type": "markdown",
   "id": "adfec817",
   "metadata": {},
   "source": [
    "### Tuple\n",
    " A tuple is a fixed-length, immutable sequence of python objects."
   ]
  },
  {
   "cell_type": "code",
   "execution_count": 4,
   "id": "c670ee31",
   "metadata": {},
   "outputs": [
    {
     "name": "stdout",
     "output_type": "stream",
     "text": [
      "(4, 5, 6)\n"
     ]
    },
    {
     "data": {
      "text/plain": [
       "tuple"
      ]
     },
     "execution_count": 4,
     "metadata": {},
     "output_type": "execute_result"
    }
   ],
   "source": [
    "t = 4,5,6\n",
    "print(t)\n",
    "type(t)"
   ]
  },
  {
   "cell_type": "code",
   "execution_count": 5,
   "id": "ac410132",
   "metadata": {},
   "outputs": [
    {
     "data": {
      "text/plain": [
       "((4, 6, 2), (1, 5, 7))"
      ]
     },
     "execution_count": 5,
     "metadata": {},
     "output_type": "execute_result"
    }
   ],
   "source": [
    "nested_tup = (4,6,2),(1,5,7) # nested tuple\n",
    "nested_tup"
   ]
  },
  {
   "cell_type": "code",
   "execution_count": 6,
   "id": "00c4bf9c",
   "metadata": {},
   "outputs": [
    {
     "data": {
      "text/plain": [
       "(2, 3, 5, 6)"
      ]
     },
     "execution_count": 6,
     "metadata": {},
     "output_type": "execute_result"
    }
   ],
   "source": [
    "tuple([2,3,5,6])"
   ]
  },
  {
   "cell_type": "code",
   "execution_count": 8,
   "id": "7acd501a",
   "metadata": {},
   "outputs": [
    {
     "data": {
      "text/plain": [
       "('s', 't', 'r', 'i', 'n', 'g')"
      ]
     },
     "execution_count": 8,
     "metadata": {},
     "output_type": "execute_result"
    }
   ],
   "source": [
    "tup = tuple('string')\n",
    "tup"
   ]
  },
  {
   "cell_type": "code",
   "execution_count": 11,
   "id": "37fd7262",
   "metadata": {},
   "outputs": [
    {
     "data": {
      "text/plain": [
       "('foo', [1, 2, 3], True)"
      ]
     },
     "execution_count": 11,
     "metadata": {},
     "output_type": "execute_result"
    }
   ],
   "source": [
    "## if any object inside a tuple is mutable such as list, you can modify it in place:\n",
    "tup = tuple(['foo',[1,2,3], True])\n",
    "## tuple expected at most 1 argument\n",
    "tup"
   ]
  },
  {
   "cell_type": "code",
   "execution_count": 12,
   "id": "6ce9b96f",
   "metadata": {},
   "outputs": [
    {
     "ename": "TypeError",
     "evalue": "'tuple' object does not support item assignment",
     "output_type": "error",
     "traceback": [
      "\u001b[1;31m---------------------------------------------------------------------------\u001b[0m",
      "\u001b[1;31mTypeError\u001b[0m                                 Traceback (most recent call last)",
      "Input \u001b[1;32mIn [12]\u001b[0m, in \u001b[0;36m<cell line: 1>\u001b[1;34m()\u001b[0m\n\u001b[1;32m----> 1\u001b[0m tup[\u001b[38;5;241m0\u001b[39m] \u001b[38;5;241m=\u001b[39m \u001b[38;5;124m'\u001b[39m\u001b[38;5;124mhey\u001b[39m\u001b[38;5;124m'\u001b[39m\n",
      "\u001b[1;31mTypeError\u001b[0m: 'tuple' object does not support item assignment"
     ]
    }
   ],
   "source": [
    "tup[0] = 'hey' ### see the typeerror"
   ]
  },
  {
   "cell_type": "code",
   "execution_count": 16,
   "id": "6fc0a446",
   "metadata": {},
   "outputs": [
    {
     "data": {
      "text/plain": [
       "('foo', [1, 2, 3, 4, 4, 5, 5], True)"
      ]
     },
     "execution_count": 16,
     "metadata": {},
     "output_type": "execute_result"
    }
   ],
   "source": [
    "tup[1].append(5)  \n",
    "tup"
   ]
  },
  {
   "cell_type": "markdown",
   "id": "fb538f74",
   "metadata": {},
   "source": [
    "Key points:\n",
    "\n",
    "1. You can concatenate tuples using the + operator to produce longer tuples.\n",
    "2. Multiplying a tuple by an integer as with lists has the effect of concatenating together that many copies of the tuple.\n",
    "3. Note : That object themselves are not copied only the reference to them."
   ]
  },
  {
   "cell_type": "markdown",
   "id": "dc2a8376",
   "metadata": {},
   "source": [
    "### Unpacking tuples\n",
    "python will attempt to  unpack the value on the right hand side of the equals sign. when we are try to assign to a tuple-like expression"
   ]
  },
  {
   "cell_type": "code",
   "execution_count": 17,
   "id": "6ba413ab",
   "metadata": {},
   "outputs": [
    {
     "data": {
      "text/plain": [
       "5"
      ]
     },
     "execution_count": 17,
     "metadata": {},
     "output_type": "execute_result"
    }
   ],
   "source": [
    "tup = (4,5,6)\n",
    "a,b,c = tup\n",
    "b"
   ]
  },
  {
   "cell_type": "code",
   "execution_count": 20,
   "id": "a91823f4",
   "metadata": {},
   "outputs": [
    {
     "data": {
      "text/plain": [
       "9"
      ]
     },
     "execution_count": 20,
     "metadata": {},
     "output_type": "execute_result"
    }
   ],
   "source": [
    "## it also applicable on nested tuple\n",
    "tup = 4,5,(6,9)\n",
    "a,b,(x,y) = tup\n",
    "y"
   ]
  },
  {
   "cell_type": "code",
   "execution_count": 21,
   "id": "fdeee92f",
   "metadata": {},
   "outputs": [
    {
     "data": {
      "text/plain": [
       "2"
      ]
     },
     "execution_count": 21,
     "metadata": {},
     "output_type": "execute_result"
    }
   ],
   "source": [
    "# swaping is done in python like this\n",
    "a,b = 1,2\n",
    "b,a = a,b\n",
    "a"
   ]
  },
  {
   "cell_type": "code",
   "execution_count": 22,
   "id": "75fbe76c",
   "metadata": {},
   "outputs": [
    {
     "name": "stdout",
     "output_type": "stream",
     "text": [
      "a=1, b=2, c=3\n",
      "a=4, b=5, c=6\n",
      "a=7, b=8, c=9\n"
     ]
    }
   ],
   "source": [
    "## a comman use of variable unpacking is iterating over sequence of tuple or list\n",
    "seq = [(1,2,3),(4,5,6),(7,8,9)]\n",
    "for a,b,c in seq:\n",
    "    print('a={0}, b={1}, c={2}'.format(a,b,c))"
   ]
  },
  {
   "cell_type": "code",
   "execution_count": 25,
   "id": "2e000c34",
   "metadata": {},
   "outputs": [
    {
     "data": {
      "text/plain": [
       "6"
      ]
     },
     "execution_count": 25,
     "metadata": {},
     "output_type": "execute_result"
    }
   ],
   "source": [
    "### count method is useful in tuple\n",
    "a = (1,4,4,4,4,4,5,6,5,6,2,4,2,3,3,9)\n",
    "a.count(4)"
   ]
  },
  {
   "cell_type": "markdown",
   "id": "845eb5f8",
   "metadata": {},
   "source": [
    "## List\n",
    "list are variable-length and their contens can be modified in place. we cna define them using square brackets[]."
   ]
  },
  {
   "cell_type": "code",
   "execution_count": 26,
   "id": "2dcc2f4d",
   "metadata": {},
   "outputs": [
    {
     "data": {
      "text/plain": [
       "['foo', 'bar', 'baz']"
      ]
     },
     "execution_count": 26,
     "metadata": {},
     "output_type": "execute_result"
    }
   ],
   "source": [
    "a_list = [1,3,5,6,None]\n",
    "tup = ('foo','bar','baz')\n",
    "b_list = list(tup)\n",
    "b_list"
   ]
  },
  {
   "cell_type": "code",
   "execution_count": 27,
   "id": "f6643641",
   "metadata": {},
   "outputs": [
    {
     "data": {
      "text/plain": [
       "['foo', 'bar', 'foobzee']"
      ]
     },
     "execution_count": 27,
     "metadata": {},
     "output_type": "execute_result"
    }
   ],
   "source": [
    "b_list[2] = 'foobzee'\n",
    "b_list"
   ]
  },
  {
   "cell_type": "code",
   "execution_count": 30,
   "id": "dd50f070",
   "metadata": {},
   "outputs": [
    {
     "data": {
      "text/plain": [
       "['foo', 'bar', 'foobzee', 'mental', 'mental']"
      ]
     },
     "execution_count": 30,
     "metadata": {},
     "output_type": "execute_result"
    }
   ],
   "source": [
    "## append method = Element can be added at the end of the list\n",
    "## insert mehtod = Element can be added a the specific location in a list.\n",
    "\n",
    "b_list.append('mental')\n",
    "b_list"
   ]
  },
  {
   "cell_type": "code",
   "execution_count": 32,
   "id": "b4ed1ac0",
   "metadata": {},
   "outputs": [
    {
     "data": {
      "text/plain": [
       "['foo', 'bar', 'red', 'red', 'foobzee', 'mental', 'mental']"
      ]
     },
     "execution_count": 32,
     "metadata": {},
     "output_type": "execute_result"
    }
   ],
   "source": [
    "b_list.insert(2,'red')\n",
    "b_list"
   ]
  },
  {
   "cell_type": "code",
   "execution_count": 33,
   "id": "5b47919f",
   "metadata": {},
   "outputs": [
    {
     "data": {
      "text/plain": [
       "['foo', 'bar', 'red', 'foobzee', 'mental', 'mental']"
      ]
     },
     "execution_count": 33,
     "metadata": {},
     "output_type": "execute_result"
    }
   ],
   "source": [
    "## pop operation is opposite to insert. it removes and return an element at a particular index.\n",
    "b_list.pop(2)\n",
    "b_list"
   ]
  },
  {
   "cell_type": "markdown",
   "id": "17f82ece",
   "metadata": {},
   "source": [
    "Note : Element can be removed by value with remove\n",
    "- a.append('foo')\n",
    "- a.remove('foo')\n"
   ]
  },
  {
   "cell_type": "code",
   "execution_count": 35,
   "id": "810ff1e6",
   "metadata": {},
   "outputs": [
    {
     "data": {
      "text/plain": [
       "True"
      ]
     },
     "execution_count": 35,
     "metadata": {},
     "output_type": "execute_result"
    }
   ],
   "source": [
    "# way to check is element are present on list or not.\n",
    "\"bar\" in b_list\n"
   ]
  },
  {
   "cell_type": "code",
   "execution_count": 36,
   "id": "08e904ea",
   "metadata": {},
   "outputs": [
    {
     "data": {
      "text/plain": [
       "True"
      ]
     },
     "execution_count": 36,
     "metadata": {},
     "output_type": "execute_result"
    }
   ],
   "source": [
    "\"hi\" not in b_list"
   ]
  },
  {
   "cell_type": "markdown",
   "id": "745e0890",
   "metadata": {},
   "source": [
    "### concatenating and combining lists"
   ]
  },
  {
   "cell_type": "code",
   "execution_count": 37,
   "id": "04efb593",
   "metadata": {},
   "outputs": [
    {
     "data": {
      "text/plain": [
       "[1, 3, 'foo', 7, 3, 2, (5, 3)]"
      ]
     },
     "execution_count": 37,
     "metadata": {},
     "output_type": "execute_result"
    }
   ],
   "source": [
    "# Adding two lists tigether with '+' concatenates them.\n",
    "[1,3,'foo']+[7,3,2,(5,3)]"
   ]
  },
  {
   "cell_type": "code",
   "execution_count": 38,
   "id": "809527c1",
   "metadata": {},
   "outputs": [
    {
     "data": {
      "text/plain": [
       "[2, 4, 6, 2, 7, 'roo', None, (2, 'foo')]"
      ]
     },
     "execution_count": 38,
     "metadata": {},
     "output_type": "execute_result"
    }
   ],
   "source": [
    "# with extend method we can append multiple elements in list\n",
    "a = [2,4,6,2]\n",
    "a.extend([7,'roo',None,(2,'foo')])\n",
    "a\n",
    "## if we are working with large dataset extend method is preferable not concatenation\n",
    "# extend is faster then concatenation"
   ]
  },
  {
   "cell_type": "markdown",
   "id": "1d52e249",
   "metadata": {},
   "source": [
    "### Sorting\n",
    "You can sort a list in-place(without creating new object)"
   ]
  },
  {
   "cell_type": "code",
   "execution_count": 42,
   "id": "b45ef5a4",
   "metadata": {},
   "outputs": [
    {
     "data": {
      "text/plain": [
       "[1, 2, 3, 4, 6, 7, 8]"
      ]
     },
     "execution_count": 42,
     "metadata": {},
     "output_type": "execute_result"
    }
   ],
   "source": [
    "a = [2,4,1,7,3,8,6]\n",
    "a.sort()\n",
    "a"
   ]
  },
  {
   "cell_type": "code",
   "execution_count": 43,
   "id": "becf3992",
   "metadata": {},
   "outputs": [
    {
     "data": {
      "text/plain": [
       "['I', 'am', 'okay']"
      ]
     },
     "execution_count": 43,
     "metadata": {},
     "output_type": "execute_result"
    }
   ],
   "source": [
    "## sort key - a function that produces a value to use to sort the object\n",
    "b =['am', 'okay', 'I']\n",
    "b.sort(key=len)\n",
    "b"
   ]
  },
  {
   "cell_type": "markdown",
   "id": "447807a1",
   "metadata": {},
   "source": [
    "Built-in bisect module\n",
    "- bisect.bisect(x,3) #  finds the location where an                         element should be inserted                           to keep it sorted\n",
    "- bisect.insort(x,2) #  Actually inserts the                                 element into that location\n",
    "- bisect modulle function do not check wether the list is sorted.  it work correctly on sorted list."
   ]
  },
  {
   "cell_type": "markdown",
   "id": "6d45aae1",
   "metadata": {},
   "source": [
    "### Slicing"
   ]
  },
  {
   "cell_type": "code",
   "execution_count": 44,
   "id": "08855880",
   "metadata": {},
   "outputs": [
    {
     "data": {
      "text/plain": [
       "[3, 5, 2, 7]"
      ]
     },
     "execution_count": 44,
     "metadata": {},
     "output_type": "execute_result"
    }
   ],
   "source": [
    "## slicing basic form consist of start:stop passed to the indexing opearter []\n",
    "seq = [1,4,3,5,2,7,9,4,6]\n",
    "seq[2:6]"
   ]
  },
  {
   "cell_type": "code",
   "execution_count": 45,
   "id": "0a206c4b",
   "metadata": {},
   "outputs": [
    {
     "data": {
      "text/plain": [
       "[3, 5, 2, 7, 9]"
      ]
     },
     "execution_count": 45,
     "metadata": {},
     "output_type": "execute_result"
    }
   ],
   "source": [
    "seq[-7:-2]"
   ]
  },
  {
   "cell_type": "code",
   "execution_count": 49,
   "id": "4abedc34",
   "metadata": {},
   "outputs": [
    {
     "data": {
      "text/plain": [
       "[6, 7, 3]"
      ]
     },
     "execution_count": 49,
     "metadata": {},
     "output_type": "execute_result"
    }
   ],
   "source": [
    "seq[::-3]"
   ]
  },
  {
   "cell_type": "markdown",
   "id": "e12315ac",
   "metadata": {},
   "source": [
    "## Built-in sequence function"
   ]
  },
  {
   "cell_type": "markdown",
   "id": "12ae401e",
   "metadata": {},
   "source": [
    "### enumerate\n",
    "it's help to keep track of the index of the current items."
   ]
  },
  {
   "cell_type": "code",
   "execution_count": 2,
   "id": "53d87809",
   "metadata": {},
   "outputs": [
    {
     "data": {
      "text/plain": [
       "{'hi': 0, 'hello': 1, 'namaste': 2}"
      ]
     },
     "execution_count": 2,
     "metadata": {},
     "output_type": "execute_result"
    }
   ],
   "source": [
    "## python built-in function, enumerate, which return a sequence of (i, value) tuples:\n",
    "\n",
    "lst = ['hi', 'hello', 'namaste']\n",
    "mapping = {}\n",
    "for i, v in enumerate(lst):\n",
    "    mapping[v] = i           ## i = index   v = value\n",
    "    \n",
    "mapping    \n",
    "    "
   ]
  },
  {
   "cell_type": "code",
   "execution_count": 3,
   "id": "0d73b1c3",
   "metadata": {},
   "outputs": [
    {
     "data": {
      "text/plain": [
       "[0, 1, 2, 3, 6, 9, 22, 44, 61]"
      ]
     },
     "execution_count": 3,
     "metadata": {},
     "output_type": "execute_result"
    }
   ],
   "source": [
    "## sorted : a function return a new sorted list from the elements of any list\n",
    "a = [9,3,6,1,44,22,61,0,2,]\n",
    "sorted(a)"
   ]
  },
  {
   "cell_type": "code",
   "execution_count": 7,
   "id": "cf0ddb15",
   "metadata": {},
   "outputs": [
    {
     "data": {
      "text/plain": [
       "[('roo', 'yes', 'true'), ('boom', 'maybe', 'false')]"
      ]
     },
     "execution_count": 7,
     "metadata": {},
     "output_type": "execute_result"
    }
   ],
   "source": [
    "## zip : \"pair\" up the elements of a number of list, tuples or other sequence to create a list of tuple\n",
    "x = ['roo', 'boom','u can']\n",
    "y = ['yes', 'maybe', 'not']\n",
    "zipped = zip(x,y)\n",
    "list(zipped)\n",
    "\n",
    "## zip can take an arbitrary number of sequences, and the number of elements it produces is determined by the shortest sequence\n",
    "z = ['true', 'false']\n",
    "\n",
    "list(zip(x,y,z))"
   ]
  },
  {
   "cell_type": "markdown",
   "id": "4987c782",
   "metadata": {},
   "source": [
    "### Dictionary(dict)\n",
    "It is flexibly sized collection of key-value pairs, where key and value are python objects.One approach for creating one is to use curly braces{} nad colons to separate key and value \n"
   ]
  },
  {
   "cell_type": "code",
   "execution_count": 5,
   "id": "300c4872",
   "metadata": {},
   "outputs": [],
   "source": [
    "dic = {'a':'hello world', 'b':[1,3,5,6], 'c': 'none'}\n",
    "dic?\n"
   ]
  },
  {
   "cell_type": "code",
   "execution_count": 6,
   "id": "9648fcf1",
   "metadata": {},
   "outputs": [
    {
     "data": {
      "text/plain": [
       "{'a': 'hello world', 'b': [1, 3, 5, 6], 'c': 'none', 5: [1, 3, 4, 6, 7]}"
      ]
     },
     "execution_count": 6,
     "metadata": {},
     "output_type": "execute_result"
    }
   ],
   "source": [
    "dic[5] = [1,3,4,6,7]\n",
    "dic"
   ]
  },
  {
   "cell_type": "code",
   "execution_count": 9,
   "id": "2639091d",
   "metadata": {},
   "outputs": [
    {
     "data": {
      "text/plain": [
       "[1, 3, 4, 6, 7]"
      ]
     },
     "execution_count": 9,
     "metadata": {},
     "output_type": "execute_result"
    }
   ],
   "source": [
    "dic[5]  ## there is no indexing concept work, we access elements by is key value."
   ]
  },
  {
   "cell_type": "code",
   "execution_count": 13,
   "id": "222989d1",
   "metadata": {},
   "outputs": [
    {
     "name": "stderr",
     "output_type": "stream",
     "text": [
      "<>:1: SyntaxWarning: \"is not\" with a literal. Did you mean \"!=\"?\n",
      "<>:1: SyntaxWarning: \"is not\" with a literal. Did you mean \"!=\"?\n",
      "C:\\Users\\hp\\AppData\\Local\\Temp\\ipykernel_20536\\3792412930.py:1: SyntaxWarning: \"is not\" with a literal. Did you mean \"!=\"?\n",
      "  'd' is not dic\n"
     ]
    },
    {
     "data": {
      "text/plain": [
       "True"
      ]
     },
     "execution_count": 13,
     "metadata": {},
     "output_type": "execute_result"
    }
   ],
   "source": [
    "'d' is not dic"
   ]
  },
  {
   "cell_type": "code",
   "execution_count": 16,
   "id": "97b7451b",
   "metadata": {},
   "outputs": [
    {
     "ename": "KeyError",
     "evalue": "5",
     "output_type": "error",
     "traceback": [
      "\u001b[1;31m---------------------------------------------------------------------------\u001b[0m",
      "\u001b[1;31mKeyError\u001b[0m                                  Traceback (most recent call last)",
      "Input \u001b[1;32mIn [16]\u001b[0m, in \u001b[0;36m<cell line: 1>\u001b[1;34m()\u001b[0m\n\u001b[1;32m----> 1\u001b[0m \u001b[38;5;28;01mdel\u001b[39;00m dic[\u001b[38;5;241m5\u001b[39m]\n",
      "\u001b[1;31mKeyError\u001b[0m: 5"
     ]
    }
   ],
   "source": [
    "del dic[5]   ## del method help to delete element in a dictinory by using key value\n"
   ]
  },
  {
   "cell_type": "code",
   "execution_count": 17,
   "id": "b328c147",
   "metadata": {},
   "outputs": [
    {
     "data": {
      "text/plain": [
       "{'a': 'hello world', 'b': [1, 3, 5, 6], 'c': 'none'}"
      ]
     },
     "execution_count": 17,
     "metadata": {},
     "output_type": "execute_result"
    }
   ],
   "source": [
    "dic"
   ]
  },
  {
   "cell_type": "code",
   "execution_count": 19,
   "id": "282c3c59",
   "metadata": {},
   "outputs": [
    {
     "data": {
      "text/plain": [
       "['a', 'b', 'c']"
      ]
     },
     "execution_count": 19,
     "metadata": {},
     "output_type": "execute_result"
    }
   ],
   "source": [
    "## the keys and values method give u iterators of the dict's key and values respectively.\n",
    "list(dic.keys())"
   ]
  },
  {
   "cell_type": "code",
   "execution_count": 20,
   "id": "1f27f81a",
   "metadata": {},
   "outputs": [
    {
     "data": {
      "text/plain": [
       "['hello world', [1, 3, 5, 6], 'none']"
      ]
     },
     "execution_count": 20,
     "metadata": {},
     "output_type": "execute_result"
    }
   ],
   "source": [
    "list(dic.values())"
   ]
  },
  {
   "cell_type": "code",
   "execution_count": 22,
   "id": "591f51bb",
   "metadata": {},
   "outputs": [
    {
     "data": {
      "text/plain": [
       "{'a': 'hello world', 'b': 'roo', 'c': 'none', 'd': [3, 4, 2]}"
      ]
     },
     "execution_count": 22,
     "metadata": {},
     "output_type": "execute_result"
    }
   ],
   "source": [
    "dic.update({'b':'roo','d':[3,4,2]})  ## donot forget to put curly braces. because we are updating dictonary.\n",
    "dic        ## when we upadte an existing key the old value discarded"
   ]
  },
  {
   "cell_type": "markdown",
   "id": "7a220703",
   "metadata": {},
   "source": [
    "####  creating dicts from sequences\n",
    "syntax:\n",
    "mapping = {}\n",
    "for key, value in zip(key_list,value_list):\n",
    "      mapping[key]=value"
   ]
  },
  {
   "cell_type": "code",
   "execution_count": 29,
   "id": "126d86b8",
   "metadata": {},
   "outputs": [
    {
     "data": {
      "text/plain": [
       "{0: 4, 1: 3, 2: 2, 3: 1, 4: 0}"
      ]
     },
     "execution_count": 29,
     "metadata": {},
     "output_type": "execute_result"
    }
   ],
   "source": [
    "mapping = dict(zip(range(5), reversed(range(5))))\n",
    "\n",
    "mapping"
   ]
  },
  {
   "cell_type": "code",
   "execution_count": 34,
   "id": "b3d20cff",
   "metadata": {},
   "outputs": [
    {
     "ename": "TypeError",
     "evalue": "unhashable type: 'list'",
     "output_type": "error",
     "traceback": [
      "\u001b[1;31m---------------------------------------------------------------------------\u001b[0m",
      "\u001b[1;31mTypeError\u001b[0m                                 Traceback (most recent call last)",
      "Input \u001b[1;32mIn [34]\u001b[0m, in \u001b[0;36m<cell line: 6>\u001b[1;34m()\u001b[0m\n\u001b[0;32m      1\u001b[0m \u001b[38;5;124;03m''' valid dict key types\u001b[39;00m\n\u001b[0;32m      2\u001b[0m \u001b[38;5;124;03mvalue in dict can be any python objct but the key generally have to be immutable object like \u001b[39;00m\n\u001b[0;32m      3\u001b[0m \u001b[38;5;124;03msacler type(int, float) or tuples. the techincal term here is hashability.\u001b[39;00m\n\u001b[0;32m      4\u001b[0m \u001b[38;5;124;03mwe can check whether an object is hashable with hash functon\u001b[39;00m\n\u001b[0;32m      5\u001b[0m \u001b[38;5;124;03m'''\u001b[39;00m\n\u001b[1;32m----> 6\u001b[0m \u001b[38;5;28;43mhash\u001b[39;49m\u001b[43m(\u001b[49m\u001b[43m[\u001b[49m\u001b[38;5;241;43m1\u001b[39;49m\u001b[43m,\u001b[49m\u001b[38;5;241;43m2\u001b[39;49m\u001b[43m,\u001b[49m\u001b[38;5;241;43m4\u001b[39;49m\u001b[43m]\u001b[49m\u001b[43m)\u001b[49m\n",
      "\u001b[1;31mTypeError\u001b[0m: unhashable type: 'list'"
     ]
    }
   ],
   "source": [
    "''' valid dict key types\n",
    "value in dict can be any python objct but the key generally have to be immutable object like \n",
    "sacler type(int, float) or tuples. the techincal term here is hashability.\n",
    "we can check whether an object is hashable with hash functon\n",
    "'''\n",
    "hash([1,2,4])   # look at he error"
   ]
  },
  {
   "cell_type": "code",
   "execution_count": 35,
   "id": "32012b5e",
   "metadata": {},
   "outputs": [
    {
     "data": {
      "text/plain": [
       "{(1, 2, 3): 5}"
      ]
     },
     "execution_count": 35,
     "metadata": {},
     "output_type": "execute_result"
    }
   ],
   "source": [
    "## to use list a key, we have convert it into tuple. \n",
    "d={}\n",
    "d[tuple([1,2,3])]= 5\n",
    "d"
   ]
  },
  {
   "cell_type": "markdown",
   "id": "ba9fc12c",
   "metadata": {},
   "source": [
    "## Set\n",
    "A set is an undordered collection of unique elements.\n",
    "A set can be created in two ways: via set function or via a set literals with curly braces.\n"
   ]
  },
  {
   "cell_type": "code",
   "execution_count": 38,
   "id": "eb0643d0",
   "metadata": {},
   "outputs": [
    {
     "name": "stdout",
     "output_type": "stream",
     "text": [
      "{1, 2, 4, 6, 45}\n"
     ]
    },
    {
     "data": {
      "text/plain": [
       "set"
      ]
     },
     "execution_count": 38,
     "metadata": {},
     "output_type": "execute_result"
    }
   ],
   "source": [
    "a = set([1,2,45,4,6])\n",
    "print(a)\n",
    "type(a)"
   ]
  },
  {
   "cell_type": "code",
   "execution_count": 39,
   "id": "859e7b72",
   "metadata": {
    "scrolled": true
   },
   "outputs": [
    {
     "data": {
      "text/plain": [
       "{1, 2, 3, 4, 5}"
      ]
     },
     "execution_count": 39,
     "metadata": {},
     "output_type": "execute_result"
    }
   ],
   "source": [
    "{1,3,5,1,3,5,2,4,2}  ### set automaticaly elimate duplicate elements from a set.b"
   ]
  },
  {
   "cell_type": "code",
   "execution_count": 40,
   "id": "1595de0a",
   "metadata": {},
   "outputs": [],
   "source": [
    " ## set in python simillar to mathematics\n",
    "# we also perform set operations here\n",
    "a ={1,2,3,4,5,7,8}\n",
    "b={1,2,4,6,7,8,3,5}"
   ]
  },
  {
   "cell_type": "code",
   "execution_count": 42,
   "id": "2606850d",
   "metadata": {},
   "outputs": [
    {
     "data": {
      "text/plain": [
       "{1, 2, 3, 4, 5, 6, 7, 8}"
      ]
     },
     "execution_count": 42,
     "metadata": {},
     "output_type": "execute_result"
    }
   ],
   "source": [
    "## union of these two sets. It can be computed with either the 'union' method or '|' binary operation\n",
    "# a.union(b)\n",
    "a|b"
   ]
  },
  {
   "cell_type": "code",
   "execution_count": 44,
   "id": "0e236cfa",
   "metadata": {},
   "outputs": [
    {
     "data": {
      "text/plain": [
       "{1, 2, 3, 4, 5, 7, 8}"
      ]
     },
     "execution_count": 44,
     "metadata": {},
     "output_type": "execute_result"
    }
   ],
   "source": [
    "## intersection \n",
    "# a.intersection(b)\n",
    "a & b"
   ]
  },
  {
   "cell_type": "markdown",
   "id": "f969e020",
   "metadata": {},
   "source": [
    "- a.add(x)  N/A   Add element x to the set a\n",
    "- a.clear()     N/A   Reset the set a to an empty state, discarding all of its elements\n",
    "- a.remove(x)   N/A   Remove element x from the set a\n",
    "- a.pop()   N/A    Remove an arbitrary element from the set a, raising KeyError if the set is empty\n",
    "- a.union(b)    a | b     All of the unique elements in a and b\n",
    "- a.update(b)    a |= b    Set the contents of a to be the union of the elements in a and b\n",
    "- a.intersection(b)    a & b    All of the elements in both a and b\n",
    "- a.intersection_update(b)    a &= b    Set the contents of a to be the intersection of the elements in a and b\n",
    "- a.difference(b)     a - b    The elements in a that are not in b\n",
    "- a.difference_update(b)    a -= b      Set a to the elements in a that are not in b\n",
    "- a.symmetric_difference(b) a ^ b All of the elements in either a or b but not both\n",
    "- a.symmetric_difference_update(b) a ^= b Set a to contain the elements in either a or b but not both\n",
    "- a.issubset(b) N/A True if the elements of a are all contained in b\n",
    "- a.issuperset(b) N/A True if the elements of b are all contained in a\n",
    "- a.isdisjoint(b) N/A True if a and b have no elements in common"
   ]
  },
  {
   "cell_type": "code",
   "execution_count": 50,
   "id": "7bebdb8a",
   "metadata": {},
   "outputs": [
    {
     "data": {
      "text/plain": [
       "set()"
      ]
     },
     "execution_count": 50,
     "metadata": {},
     "output_type": "execute_result"
    }
   ],
   "source": [
    "a.symmetric_difference(b)\n"
   ]
  },
  {
   "cell_type": "code",
   "execution_count": 51,
   "id": "38238290",
   "metadata": {},
   "outputs": [
    {
     "data": {
      "text/plain": [
       "True"
      ]
     },
     "execution_count": 51,
     "metadata": {},
     "output_type": "execute_result"
    }
   ],
   "source": [
    "## set is equal if and only if their content are equal\n",
    "{1,3,5,6} == {3,1,5,6}"
   ]
  },
  {
   "cell_type": "markdown",
   "id": "d9304689",
   "metadata": {},
   "source": [
    "## List, Set and Dict comprehensions"
   ]
  },
  {
   "cell_type": "markdown",
   "id": "e11ee5d3",
   "metadata": {},
   "source": [
    "List comprehensions are one of the most-loved Python language features. They allow\n",
    "you to concisely form a new list by filtering the elements of a collection, transforming\n",
    "the elements passing the filter in one concise expression. They take the basic form:\n",
    "\n",
    "[expr for val in collection if condition]"
   ]
  },
  {
   "cell_type": "code",
   "execution_count": 1,
   "id": "202222bc",
   "metadata": {},
   "outputs": [
    {
     "data": {
      "text/plain": [
       "['des', 'qtg', 'fgh']"
      ]
     },
     "execution_count": 1,
     "metadata": {},
     "output_type": "execute_result"
    }
   ],
   "source": [
    "strinngs = ['A','BC','DES','QTG','FGH']\n",
    "[x.lower() for x in strinngs if len(x)>2]"
   ]
  },
  {
   "cell_type": "markdown",
   "id": "b99691ce",
   "metadata": {},
   "source": [
    "## Function\n",
    "- Functions are the primary and most important method of code organization and reuse in Python script.\n",
    "- Functions can also help make your code more readable by giving a name to a group of\n",
    "Python statements.\n",
    "- Functions are declared with the def keyword and returned from with the return key‐word:\n",
    "- def my_function(x, y, z=1.5):\n",
    "  - if z > 1:\n",
    "  - return z * (x + y)\n",
    "  - else:\n",
    "  - return z / (x + y)\n"
   ]
  },
  {
   "cell_type": "code",
   "execution_count": null,
   "id": "b0ae4c9e",
   "metadata": {},
   "outputs": [],
   "source": [
    "## Each function can have positional arguments and keyword arguments. Keyword argu‐ments are most commonly used to specify default values or optional arguments.\n",
    "# This means that the function can be called in any of these ways:\n",
    "# my_function(5, 6, z=0.7)   x&y are positioal argmets and z is keyword arguments\n",
    "# my_function(3.14, 7, 3.5)\n",
    "# my_function(10, 20)\n",
    "\n",
    "\n",
    "# The main restriction on function arguments is that the keyword arguments must fol‐low the positional arguments (if any).\n",
    "# It is possible to use keywords for passing positional arguments aswell. In the preceding example, we could also have written:\n",
    " # my_function(x=5, y=6, z=7)\n",
    " # my_function(y=6, x=5, z=7)\n",
    "\n",
    "\n"
   ]
  },
  {
   "cell_type": "markdown",
   "id": "e36c00a7",
   "metadata": {},
   "source": [
    "### Namespaces, Scope, and Local Functions\n",
    "- Functions can access variables in two different scopes: global and local. An alternative and more descriptive name describing a variable scope in Python is a namespace.\n",
    "- The local namespace is created when the function is called and immedi‐ately populated by the function’s arguments. After the function is finished, the local namespace is destroyed \n"
   ]
  },
  {
   "cell_type": "markdown",
   "id": "750844a1",
   "metadata": {},
   "source": [
    "### Returning Multiple values\n",
    "- Python was the ability to return multiple value from a function with simple syntax.\n",
    "- def f():\n",
    "   - a = 5\n",
    "   - b = 6\n",
    "   - c = 7\n",
    "  - return a, b, c\n",
    "- a, b, c = f()\n",
    "- \n"
   ]
  },
  {
   "cell_type": "code",
   "execution_count": null,
   "id": "715d707a",
   "metadata": {},
   "outputs": [],
   "source": [
    "## Functions are Objects\n",
    "# Python functions are objects, many constructs can be easily expressed that are difficult to do in other languages.\n",
    "\n",
    "\n",
    "## An0nymous(Lambda) function\n",
    "# it is a way of writing function consisting of a single statement, the result of which is the return value. \n",
    "\n",
    "## A generator is a concise way to construct a new iterable object"
   ]
  }
 ],
 "metadata": {
  "kernelspec": {
   "display_name": "Python 3 (ipykernel)",
   "language": "python",
   "name": "python3"
  },
  "language_info": {
   "codemirror_mode": {
    "name": "ipython",
    "version": 3
   },
   "file_extension": ".py",
   "mimetype": "text/x-python",
   "name": "python",
   "nbconvert_exporter": "python",
   "pygments_lexer": "ipython3",
   "version": "3.9.12"
  }
 },
 "nbformat": 4,
 "nbformat_minor": 5
}
